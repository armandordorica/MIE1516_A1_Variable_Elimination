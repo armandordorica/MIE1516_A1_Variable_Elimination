{
  "nbformat": 4,
  "nbformat_minor": 0,
  "metadata": {
    "colab": {
      "name": "MIE1516_A1_Q3.ipynb",
      "provenance": [],
      "authorship_tag": "ABX9TyOxOeEAySO38RO4QbZoatxm",
      "include_colab_link": true
    },
    "kernelspec": {
      "name": "python3",
      "display_name": "Python 3"
    }
  },
  "cells": [
    {
      "cell_type": "markdown",
      "metadata": {
        "id": "view-in-github",
        "colab_type": "text"
      },
      "source": [
        "<a href=\"https://colab.research.google.com/github/armandordorica/MIE1516_A1_Variable_Elimination/blob/master/MIE1516_A1_Q3.ipynb\" target=\"_parent\"><img src=\"https://colab.research.google.com/assets/colab-badge.svg\" alt=\"Open In Colab\"/></a>"
      ]
    },
    {
      "cell_type": "code",
      "metadata": {
        "id": "d_oeSY9NwANs",
        "colab_type": "code",
        "colab": {}
      },
      "source": [
        ""
      ],
      "execution_count": 0,
      "outputs": []
    },
    {
      "cell_type": "markdown",
      "metadata": {
        "id": "BMvEc6_TwBKQ",
        "colab_type": "text"
      },
      "source": [
        "Using the API calls of pgmpy as guidance, implement your own simple Bayes net toolbox that supports construction of a Bayes net assuming all variables are binary (i.e., any variable can have any parents where you can assume only legal DAGs are specified).  \n",
        "* You should implement variable elimination as the inference algorithm and you should support any marginal query (arbitrary query variable and arbitrary evidence).  \n",
        "* You do not need to implement exactly the pgmpy interface(e.g., you don’t need to specify variable cardinality), but your tool should accept the same CPD format as pgmpyto facilitate testing / grading.  \n",
        "* To test, you need to showa comparison of pgmpy matching theoutput ofyour tool with 2 Bayes nets (each having at least 5variables) and 3different queriesper Bayes net.  During grading (in lab), you will be asked to showquery results with a third Bayes netand queries we will provide.\n",
        "* Full credit will be given for using numpy or decision diagramsas your tabular representation;use of pandas dataframesor other “high overhead data structures”will receive a 2 point deduction.Full credit also requires that you make an “intelligent”choice of variable ordering."
      ]
    },
    {
      "cell_type": "markdown",
      "metadata": {
        "id": "6wmMxbLmwPvB",
        "colab_type": "text"
      },
      "source": [
        "**Functions that I need**\n",
        "* Create table (CPD) \n",
        "* Initialize CPD\n",
        "* Print CPD\n",
        "* Variable elimination"
      ]
    },
    {
      "cell_type": "code",
      "metadata": {
        "id": "OBT4lUSXwBjm",
        "colab_type": "code",
        "colab": {}
      },
      "source": [
        ""
      ],
      "execution_count": 0,
      "outputs": []
    }
  ]
}