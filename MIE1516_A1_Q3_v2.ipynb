{
  "nbformat": 4,
  "nbformat_minor": 0,
  "metadata": {
    "colab": {
      "name": "MIE1516_A1_Q3_v2.ipynb",
      "provenance": [],
      "collapsed_sections": [],
      "authorship_tag": "ABX9TyNqyTvQirxhhusLHwbcxp4+",
      "include_colab_link": true
    },
    "kernelspec": {
      "name": "python3",
      "display_name": "Python 3"
    }
  },
  "cells": [
    {
      "cell_type": "markdown",
      "metadata": {
        "id": "view-in-github",
        "colab_type": "text"
      },
      "source": [
        "<a href=\"https://colab.research.google.com/github/armandordorica/MIE1516_A1_Variable_Elimination/blob/master/MIE1516_A1_Q3_v2.ipynb\" target=\"_parent\"><img src=\"https://colab.research.google.com/assets/colab-badge.svg\" alt=\"Open In Colab\"/></a>"
      ]
    },
    {
      "cell_type": "code",
      "metadata": {
        "id": "-EeiMn2VkG10",
        "colab_type": "code",
        "outputId": "84985021-fb5f-4503-aafd-da0ea8c21ce2",
        "colab": {
          "base_uri": "https://localhost:8080/",
          "height": 88
        }
      },
      "source": [
        "!pip install PrettyTable\n",
        "!pip install truths"
      ],
      "execution_count": 334,
      "outputs": [
        {
          "output_type": "stream",
          "text": [
            "Requirement already satisfied: PrettyTable in /usr/local/lib/python3.6/dist-packages (0.7.2)\n",
            "Requirement already satisfied: truths in /usr/local/lib/python3.6/dist-packages (1.2)\n",
            "Requirement already satisfied: prettytable in /usr/local/lib/python3.6/dist-packages (from truths) (0.7.2)\n"
          ],
          "name": "stdout"
        }
      ]
    },
    {
      "cell_type": "code",
      "metadata": {
        "id": "4C15OxuQkKJa",
        "colab_type": "code",
        "colab": {}
      },
      "source": [
        "import prettytable\n",
        "import numpy as np\n",
        "import pandas as pd\n",
        "pretty=prettytable.PrettyTable()"
      ],
      "execution_count": 0,
      "outputs": []
    },
    {
      "cell_type": "markdown",
      "metadata": {
        "id": "3y3MYKPe5_XM",
        "colab_type": "text"
      },
      "source": [
        "## Global functions (for now)"
      ]
    },
    {
      "cell_type": "code",
      "metadata": {
        "id": "4D9Vwx7KXszd",
        "colab_type": "code",
        "colab": {}
      },
      "source": [
        "def __eq__(node1, node2):\n",
        "    return node1.name==node2.name and node1.parents==node2.parents and node1.children==node2.children\n",
        "\n",
        "def object_in_list(object, list_of_objects):\n",
        "  for i in range(0, len(list_of_objects)):\n",
        "    if __eq__(object,list_of_objects[i]): \n",
        "      return True \n",
        "\n",
        "  return False\n",
        "\n",
        "def toggle(var):\n",
        "  if var == 0:\n",
        "    return 1\n",
        "  if var == 1:\n",
        "    return 0\n",
        "\n",
        "def boolean_truth_table(num_vars):\n",
        "  truth_table = []\n",
        "  num_vars = num_vars\n",
        "  num_cols = num_vars\n",
        "  var = 1\n",
        "  num_rows = 2**num_vars\n",
        "  for col_num in range(0,num_cols):\n",
        "    truth_table.append([])\n",
        "    col_num = col_num+1\n",
        "    # print(\"col: {} toggle every {} values\".format(col_num, 2**(num_vars-col_num)))\n",
        "    for row_num in range(0, num_rows):\n",
        "      if row_num%2**(num_vars-col_num)==0:\n",
        "        var = toggle(var)\n",
        "      truth_table[col_num-1].append(var)\n",
        "      # print(truth_table[col_num-1])\n",
        "      # print(var)\n",
        "  return truth_table\n",
        "\n",
        "def generate_truth_table(list_of_variables):\n",
        "  d = dict()\n",
        "  num_vars = len(list_of_variables)\n",
        "  for i in range(0, num_vars): \n",
        "    d[str(list_of_variables[i])] = boolean_truth_table(len(list_of_variables))[i]\n",
        "  df = pd.DataFrame(data=d)\n",
        "  return df\n",
        "\n",
        "def multiply_tabular_cpds(tabular_cpd1, tabular_cpd2, var_to_marginalize):\n",
        "  df1 = tabular_cpd1.to_pandas_df()\n",
        "  df1 = tabular_cpd1.to_pandas_df()\n",
        "\n",
        "  vars_factor_1 = tabular_cpd1.get_factor().vars_in_factor()\n",
        "  vars_factor_1.remove(var_to_marginalize)\n",
        "\n",
        "  vars_factor_2 = tabular_cpd2.get_factor().vars_in_factor()\n",
        "  vars_factor_2.remove(var_to_marginalize)\n",
        "\n",
        "  total_vars = []\n",
        "  total_vars.append(vars_factor_1[0])\n",
        "  total_vars.append(vars_factor_2[0])\n",
        "  output_table = generate_truth_table(total_vars) \n",
        "\n",
        "  vars_factor_1.append('Pr')\n",
        "  vars_factor_2.append('Pr')\n",
        "\n",
        "  result = pd.merge(df1, df2, on='B', how='inner')\n",
        "  r0 = result[result['B']==0].Pr_x*result[result['B']==0].Pr_y\n",
        "  r1 = (result[result['B']==1].Pr_x*result[result['B']==1].Pr_y).reset_index(drop=True)\n",
        "  output_table['Pr']= r0.add(r1, fill_value=0)\n",
        "  output_table\n",
        "  return output_table\n",
        "\n",
        "def multiply_tabular_cpds_v2(cpd_a, cpd_b):\n",
        "  \"\"\"\n",
        "  input: two tabular cpds which can be in either TabularCPD or dataframe format\n",
        "  output: dataframe which is the product of the two cpds multiplied by \n",
        "  their common term\n",
        "  \"\"\"\n",
        "  if isinstance(cpd_a, TabularCPD):\n",
        "    left = cpd_a.to_truth_table()\n",
        "  else: \n",
        "    left = cpd_a\n",
        "  if isinstance(cpd_b, TabularCPD):\n",
        "    right = cpd_b.to_truth_table()\n",
        "  else:\n",
        "    right = cpd_b\n",
        "  common_columns= np.intersect1d(left.columns, right.columns)\n",
        "  common_columns= list(common_columns)\n",
        "  common_columns.remove('Pr')\n",
        "  result = pd.merge(left, right, on=common_columns, how='inner')\n",
        "  result['Pr']=result['Pr_x'] *result['Pr_y']\n",
        "  return result.drop(columns=['Pr_x', 'Pr_y'])\n",
        "\n",
        "def df_marginalize(df, vars_to_marginalize):\n",
        "  \"\"\"\n",
        "  input: a dataframe in truth table format with a \"Pr\" column - typically an output of `multiply_tabular_cpds_v2`\n",
        "        , a list of variables to marginalize on \n",
        "  output: a dataframe with the removed column that you marginalized on\n",
        "  \"\"\"\n",
        "  if isinstance(df, TabularCPD):\n",
        "    df = df.to_truth_table()\n",
        "  df_columns = list(df.columns)\n",
        "  df_columns.remove('Pr')\n",
        "\n",
        "  l1 = df_columns\n",
        "  l2 = vars_to_marginalize\n",
        "  l3 = [x for x in l1 if x not in l2]\n",
        "  group_by_list = l3\n",
        "  if len(group_by_list)>0:\n",
        "    df = df.groupby(group_by_list).sum()\n",
        "    return df.drop(columns=vars_to_marginalize).reset_index()   \n",
        "  else: \n",
        "    return df "
      ],
      "execution_count": 0,
      "outputs": []
    },
    {
      "cell_type": "code",
      "metadata": {
        "id": "l0uYBuITxOFE",
        "colab_type": "code",
        "colab": {}
      },
      "source": [
        "class Node:\n",
        "  def __init__(self, name, parents='', children=''):\n",
        "    self.name = name\n",
        "    self.parents = parents\n",
        "    self.children = children"
      ],
      "execution_count": 0,
      "outputs": []
    },
    {
      "cell_type": "code",
      "metadata": {
        "id": "eeIuYHpCkL6t",
        "colab_type": "code",
        "colab": {}
      },
      "source": [
        "class MyBayesianModel: \n",
        "  def __init__(self, list_of_edges, nodes=[]):\n",
        "    self.list_of_edges = list(list_of_edges)\n",
        "    self.nodes = nodes # list(set([k for i in list_of_edges for k in i]))\n",
        "    self.tabular_cpds=[]\n",
        "    self.suggested_order=[]\n",
        "\n",
        "  def get_suggested_order(self):\n",
        "    if len(self.suggested_order)==0:\n",
        "      variables = [''] *len(self.nodes)\n",
        "      parents = np.zeros(len(self.nodes))\n",
        "      children= np.zeros(len(self.nodes))\n",
        "\n",
        "      for i in range(0, len(self.nodes)):\n",
        "        variables[i]=self.nodes[i].name\n",
        "        parents[i]=len(self.nodes[i].parents)\n",
        "        children[i]=len(self.nodes[i].children)\n",
        "\n",
        "      df = pd.DataFrame(variables, columns =['Variables']) \n",
        "      df['Parents'] = parents\n",
        "      df['Children'] = children\n",
        "      df['Total'] = df['Parents']+df['Children']\n",
        "      suggested_order = list(df.sort_values(by=['Total'])['Variables'])\n",
        "      self.suggested_order = suggested_order \n",
        "      return suggested_order\n",
        "    else:\n",
        "      return self.suggested_order\n",
        "\n",
        "  def add_cpds(self, list_of_cpds):\n",
        "      for i in range(0, len(list_of_cpds)):\n",
        "        list_of_cpds[i].model = self\n",
        "        # while the model doesn't have the full list of cpds, keep appending\n",
        "        if (len(self.tabular_cpds) <= len(list_of_cpds)):\n",
        "          self.tabular_cpds.append(list_of_cpds[i])\n",
        "          edges_with_children=[item for item in list_of_cpds[i].model.list_of_edges if item[0] == list_of_cpds[i].variable]\n",
        "    \n",
        "        #adding nodes and parents to the model that it belongs to\n",
        "          if len(edges_with_children)>0: \n",
        "            list_of_cpds[i].model.nodes.append(Node(list_of_cpds[i].variable, \n",
        "                              list_of_cpds[i].evidence, \n",
        "                              [item for item in list_of_cpds[i].model.list_of_edges if item[0] == list_of_cpds[i].variable][0][1]))\n",
        "            \n",
        "          elif len(edges_with_children)==0: \n",
        "            list_of_cpds[i].model.nodes.append(Node(list_of_cpds[i].variable, \n",
        "                              list_of_cpds[i].evidence ))\n",
        "      self.dedupe_list_of_nodes()\n",
        "  \n",
        "  def dedupe_list_of_nodes(self):\n",
        "    ##starts with an empty list and only adds items to it if they don't exist in the list\n",
        "    empty_list=[]\n",
        "    for i in range(0, len(self.nodes)):\n",
        "      if not object_in_list(self.nodes[i], empty_list):\n",
        "        empty_list.append(self.nodes[i])\n",
        "    self.nodes = empty_list\n",
        "\n",
        "  def print_all_factors(self):\n",
        "    for i in range(0, len(self.tabular_cpds)):\n",
        "      self.tabular_cpds[i].print_factor()\n",
        "\n",
        "  def get_variables(self):\n",
        "      list_of_tuples = list(self.list_of_edges)\n",
        "      list_of_items = [item for t in list_of_tuples for item in t] \n",
        "      list_set = set(list_of_items) \n",
        "      # convert the set to the list \n",
        "      unique_list_of_vars = (list(list_set))\n",
        "      print(unique_list_of_vars)\n",
        "\n",
        "  def available_cpds(self):\n",
        "    for i in range(0, len(self.tabular_cpds)):\n",
        "      self.tabular_cpds[i].print_factor()\n",
        "\n",
        "  def eliminate_variable(self, variable_to_eliminate):\n",
        "    print(\"Marginalize on {}\".format(variable_to_eliminate))\n",
        "    print(\"Multiply factors:\")\n",
        "    for i in range(0,len(self.tabular_cpds)):\n",
        "      if self.tabular_cpds[i].get_factor().contains_var(variable_to_eliminate):\n",
        "        self.tabular_cpds[i].print_factor()\n",
        "\n",
        "    print(\"CPDs are:\\n\")\n",
        "    for i in range(0,len(self.tabular_cpds)):\n",
        "      if self.tabular_cpds[i].get_factor().contains_var(variable_to_eliminate):\n",
        "        self.tabular_cpds[i].print_cpd()"
      ],
      "execution_count": 0,
      "outputs": []
    },
    {
      "cell_type": "code",
      "metadata": {
        "id": "9bBlCK5RfwPt",
        "colab_type": "code",
        "colab": {}
      },
      "source": [
        "class Factor:\n",
        "  def __init__(self, indep_var, dep_vars=[]):\n",
        "    self.indep_var = indep_var\n",
        "    self.dep_vars = dep_vars\n",
        "  \n",
        "  def print_factor(self):\n",
        "    if len(self.dep_vars)>0:\n",
        "      self.dep_vars = set(self.dep_vars)\n",
        "      self.dep_vars = list(self.dep_vars)\n",
        "      self.dep_vars.sort()\n",
        "\n",
        "      dep_vars = str(self.dep_vars[0])\n",
        "      for i in range (1, len(self.dep_vars)):\n",
        "        dep_vars = dep_vars + \",\" + self.dep_vars[i]\n",
        "      print(\"P({}|{})\".format(self.indep_var, dep_vars))\n",
        "    if len(self.dep_vars)==0:\n",
        "      print(\"P({})\".format(self.indep_var))\n",
        "\n",
        "  def vars_in_factor(self):\n",
        "    factors = list()\n",
        "    factors.append(str(self.indep_var))\n",
        "    for i in range (0, len(self.dep_vars)):\n",
        "      factors.append(self.dep_vars[i])\n",
        "    \n",
        "    list_set = set(factors) \n",
        "    # convert the set to the list \n",
        "    unique_list_of_vars = list(list_set)\n",
        "    unique_list_of_vars.sort(reverse=False)\n",
        "\n",
        "    return unique_list_of_vars\n",
        "\n",
        "  def contains_var(self, variable):\n",
        "    if variable in self.vars_in_factor():\n",
        "      return True\n",
        "    else:\n",
        "      return False\n",
        "\n",
        "  "
      ],
      "execution_count": 0,
      "outputs": []
    },
    {
      "cell_type": "code",
      "metadata": {
        "id": "eoSlFKa9kP5x",
        "colab_type": "code",
        "colab": {}
      },
      "source": [
        "class TabularCPD: \n",
        "  \"\"\"\n",
        "  input to initialize: \n",
        "        * variable - dependent variable\n",
        "        * variable_card - how many possible values for dependent variable \n",
        "        * values - tabular probabilities \n",
        "        * evidence - independent variable \n",
        "        * evidence_card - list of possibilities for each of the dependent variables\n",
        "  \"\"\"\n",
        "  def __init__(self, variable, variable_card, values, evidence='', evidence_card=''): \n",
        "    self.variable = variable \n",
        "    self.variable_card = variable_card\n",
        "    self.values = values\n",
        "    self.evidence = evidence\n",
        "    self.evidence_card = evidence_card\n",
        "\n",
        "  # Initializing factors of the CPD depending on the format (whether evidence is provided or not)\n",
        "    if len(self.evidence)>0:\n",
        "      self.factors = []\n",
        "      self.factors.append(Factor(self.variable, self.evidence))\n",
        "    \n",
        "    if len(self.evidence)==0:\n",
        "      self.factors = []\n",
        "      self.factors.append(Factor(self.variable))\n",
        "      \n",
        "    self.all_variables = []\n",
        "    self.all_variables.append(self.variable)\n",
        "    for i in range (0, len(self.evidence)):\n",
        "      self.all_variables.append(self.evidence[i])\n",
        "\n",
        "    self.truth_table = generate_truth_table(self.all_variables)\n",
        "    self.probabilities = []\n",
        "\n",
        "    for i in range(0, len(self.values)):\n",
        "      for j in range(0, len(self.values[i])):\n",
        "        self.probabilities.append(self.values[i][j])\n",
        "\n",
        "    probs = np.asarray(self.probabilities, dtype=np.float32)\n",
        "    self.truth_table['Pr'] = probs\n",
        "\n",
        "  def get_factor(self):\n",
        "    \"\"\"Returns all the factors associated with a TabularCPD\"\"\"\n",
        "    return self.factors[0]\n",
        "\n",
        "  def print_factor(self):\n",
        "    self.factors[0].print_factor()\n",
        "  \n",
        "  def to_truth_table(self):\n",
        "    self.truth_table = generate_truth_table(self.all_variables)\n",
        "\n",
        "    self.probabilities = []\n",
        "\n",
        "    for i in range(0, len(self.values)):\n",
        "      for j in range(0, len(self.values[i])):\n",
        "        self.probabilities.append(self.values[i][j])\n",
        "\n",
        "    probs = np.asarray(self.probabilities, dtype=np.float32)\n",
        "    self.truth_table['Pr'] = probs\n",
        "\n",
        "    return self.truth_table\n",
        "\n",
        "  def marginalize(self, var_to_marginalize): \n",
        "    #marginalize by \"E\"\n",
        "    #var_to_marginalize = 'E'\n",
        "    #keeping only the values to group by that are not the variable you want to marginalize on \n",
        "    group_by_list = list(filter(lambda a: a != var_to_marginalize, self.all_variables))\n",
        "    df = self.truth_table.groupby(group_by_list).sum()\n",
        "    df = df.drop(columns=[var_to_marginalize])\n",
        "    return df \n",
        "\n",
        "  def to_pandas_df(self): \n",
        "    df = pd.DataFrame.from_records(self.values)\n",
        "    if self.evidence!='':\n",
        "      df = df.transpose()\n",
        "\n",
        "    # for every column append the name of the tabular self variable \n",
        "    cols_in_df = len(df.columns)\n",
        "    rows_in_df = len(df.index)\n",
        "\n",
        "\n",
        "    for i in range(0, cols_in_df):\n",
        "      df.rename(columns={ df.columns[i]: str(self.variable)+\"_\"+str(i) }, inplace = True)\n",
        "\n",
        "    df.reset_index(inplace=True)\n",
        "\n",
        "    if self.evidence!='':\n",
        "      for i in range(0, rows_in_df):\n",
        "        df.iloc[i,0] = str(self.evidence[0])+\"_\"+str(i)\n",
        "\n",
        "\n",
        "    df.set_index('index')\n",
        "\n",
        "    if self.evidence_card == [2,2]:\n",
        "      df = pd.DataFrame.from_records(self.values)\n",
        "      df = df.transpose()\n",
        "\n",
        "      # for every column append the name of the tabular self variable \n",
        "      cols_in_df = len(df.columns)\n",
        "      rows_in_df = len(df.index)\n",
        "\n",
        "      for i in range(0, cols_in_df):\n",
        "        df.rename(columns={ df.columns[i]: str(self.variable)+\"_\"+str(i) }, inplace = True)\n",
        "\n",
        "      data = df\n",
        "      df =generate_truth_table(self.evidence) \n",
        "      df['index']= str(self.evidence[0]) + \"_\" + df[str(self.evidence[0])].astype(str) + \"_\" + str(self.evidence[1]) + \"_\"+df[str(self.evidence[1])].astype(str)\n",
        "      df = df[['index']]\n",
        "      df_final = pd.concat([df, data], axis=1)\n",
        "      df_final.set_index('index')\n",
        "      return df_final.set_index('index')\n",
        "    return df.set_index('index')"
      ],
      "execution_count": 0,
      "outputs": []
    },
    {
      "cell_type": "code",
      "metadata": {
        "id": "dCJrC9LxePvv",
        "colab_type": "code",
        "colab": {}
      },
      "source": [
        "class VariableElimination:\n",
        "  def __init__(self, model):\n",
        "    self.model = model\n",
        "\n",
        "  def query(self, desired_variable, evidence=''):\n",
        "    factors_list = []\n",
        "    desired_variable =desired_variable[0]\n",
        "    factors_list = self.model.tabular_cpds\n",
        "    order = self.model.get_suggested_order()\n",
        "    try:\n",
        "      order.remove(desired_variable)\n",
        "    except:\n",
        "      print(\"Please reinitialize your model\")\n",
        "\n",
        "    for i in range(0, len(order)):\n",
        "      eliminate_variable(factors_list, order[i])\n",
        "    return factors_list[0].reset_index(drop=True)\n",
        "\n",
        "  def eliminate_variable(self, factors_list, variable_to_eliminate): \n",
        "    print(\"factors_list:{} \".format(factors_list))\n",
        "    print(\"Variable to eliminate: {}\".format(variable_to_eliminate))\n",
        "    cpds_to_multiply = get_cpds_to_multiply(factors_list, variable_to_eliminate)\n",
        "    product = multiply_tabular_cpds_v2(cpds_to_multiply[0], cpds_to_multiply[1])\n",
        "    resulting_factor = df_marginalize(product, variable_to_eliminate)\n",
        "    factors_list.append(resulting_factor)\n",
        "    factors_list.remove(cpds_to_multiply[0])\n",
        "    factors_list.remove(cpds_to_multiply[1])\n",
        "\n",
        "  def get_cpds_to_multiply(self, factors_list, variable_to_eliminate):\n",
        "    \"\"\"\n",
        "    input: list of all pending factors and variable to eliminate \n",
        "    output: returns list of pending factors that contain the variable of interest \n",
        "    \"\"\"\n",
        "    cpds_to_multiply = []\n",
        "    factors_list = factors_list\n",
        "    current_variable = variable_to_eliminate\n",
        "    for i in range(0, len(self.model.tabular_cpds)):\n",
        "      if isinstance(self.model.tabular_cpds[i], TabularCPD):\n",
        "        if self.model.tabular_cpds[i].get_factor().contains_var(current_variable):\n",
        "          cpds_to_multiply.append(self.model.tabular_cpds[i])\n",
        "    ##see if dataframe contains a variable and add it to the cpds_to_multiply list\n",
        "      elif not isinstance(self.model.tabular_cpds[i], TabularCPD):\n",
        "        df_vars = list(self.model.tabular_cpds[1].columns)\n",
        "        if current_variable in df_vars: \n",
        "          cpds_to_multiply.append(self.model.tabular_cpds[i])\n",
        "    return cpds_to_multiply   \n"
      ],
      "execution_count": 0,
      "outputs": []
    },
    {
      "cell_type": "code",
      "metadata": {
        "id": "O1DcKJZwnRzK",
        "colab_type": "code",
        "colab": {}
      },
      "source": [
        ""
      ],
      "execution_count": 0,
      "outputs": []
    },
    {
      "cell_type": "markdown",
      "metadata": {
        "id": "dmNHZOOErafk",
        "colab_type": "text"
      },
      "source": [
        ""
      ]
    },
    {
      "cell_type": "code",
      "metadata": {
        "id": "3G2Bae9yejvi",
        "colab_type": "code",
        "colab": {}
      },
      "source": [
        ""
      ],
      "execution_count": 0,
      "outputs": []
    },
    {
      "cell_type": "markdown",
      "metadata": {
        "id": "zy3QlTG8DpWh",
        "colab_type": "text"
      },
      "source": [
        "### **Test 1**"
      ]
    },
    {
      "cell_type": "code",
      "metadata": {
        "id": "OIy1scfoobKu",
        "colab_type": "code",
        "colab": {}
      },
      "source": [
        "model = []\n",
        "model = MyBayesianModel([('E', 'A'), ('B', 'A'), ('A', 'J'), ('A', 'M')])\n",
        "cpd_e = TabularCPD(variable='E', variable_card = 2, values=[[0.998,0.002]])\n",
        "cpd_b = TabularCPD(variable='B', variable_card = 2, values=[[0.999,0.001]])\n",
        "\n",
        "cpd_j = TabularCPD(variable='J', variable_card=2, \n",
        "                   values=[[0.95, 0.1], \n",
        "                           [0.05, 0.9]],\n",
        "                   evidence = ['A'], \n",
        "                   evidence_card=[2] \n",
        "                   )\n",
        "\n",
        "cpd_m = TabularCPD(variable='M', variable_card=2, \n",
        "                   values=[[0.99, 0.3], \n",
        "                           [0.01, 0.7]],\n",
        "                   evidence = ['A'], \n",
        "                   evidence_card=[2] \n",
        "                   )\n",
        "\n",
        "cpd_a =  TabularCPD(variable='A', variable_card=2, \n",
        "                   values=[[0.999, 0.06, 0.71, 0.05], \n",
        "                           [0.001, 0.94, 0.29, 0.95]],\n",
        "                   evidence = ['E','B'], \n",
        "                   evidence_card=[2,2] \n",
        "                   )\n",
        "model.add_cpds([cpd_a, cpd_b, cpd_e, cpd_j, cpd_m])"
      ],
      "execution_count": 0,
      "outputs": []
    },
    {
      "cell_type": "code",
      "metadata": {
        "id": "2H7Cq70fgYca",
        "colab_type": "code",
        "colab": {
          "base_uri": "https://localhost:8080/",
          "height": 102
        },
        "outputId": "f444554a-07d8-45a2-a922-e1fa12b658d5"
      },
      "source": [
        "model.print_all_factors()"
      ],
      "execution_count": 355,
      "outputs": [
        {
          "output_type": "stream",
          "text": [
            "P(A|B,E)\n",
            "P(B)\n",
            "P(E)\n",
            "P(J|A)\n",
            "P(M|A)\n"
          ],
          "name": "stdout"
        }
      ]
    },
    {
      "cell_type": "code",
      "metadata": {
        "id": "LthX-brwgzBn",
        "colab_type": "code",
        "colab": {
          "base_uri": "https://localhost:8080/",
          "height": 111
        },
        "outputId": "de706316-cb03-4c8b-e87e-99ef23020a18"
      },
      "source": [
        "f1 = df_marginalize(cpd_m, ['M'])\n",
        "f1"
      ],
      "execution_count": 327,
      "outputs": [
        {
          "output_type": "execute_result",
          "data": {
            "text/html": [
              "<div>\n",
              "<style scoped>\n",
              "    .dataframe tbody tr th:only-of-type {\n",
              "        vertical-align: middle;\n",
              "    }\n",
              "\n",
              "    .dataframe tbody tr th {\n",
              "        vertical-align: top;\n",
              "    }\n",
              "\n",
              "    .dataframe thead th {\n",
              "        text-align: right;\n",
              "    }\n",
              "</style>\n",
              "<table border=\"1\" class=\"dataframe\">\n",
              "  <thead>\n",
              "    <tr style=\"text-align: right;\">\n",
              "      <th></th>\n",
              "      <th>A</th>\n",
              "      <th>Pr</th>\n",
              "    </tr>\n",
              "  </thead>\n",
              "  <tbody>\n",
              "    <tr>\n",
              "      <th>0</th>\n",
              "      <td>0</td>\n",
              "      <td>1.0</td>\n",
              "    </tr>\n",
              "    <tr>\n",
              "      <th>1</th>\n",
              "      <td>1</td>\n",
              "      <td>1.0</td>\n",
              "    </tr>\n",
              "  </tbody>\n",
              "</table>\n",
              "</div>"
            ],
            "text/plain": [
              "   A   Pr\n",
              "0  0  1.0\n",
              "1  1  1.0"
            ]
          },
          "metadata": {
            "tags": []
          },
          "execution_count": 327
        }
      ]
    },
    {
      "cell_type": "code",
      "metadata": {
        "id": "01MkIJg4rDh1",
        "colab_type": "code",
        "colab": {}
      },
      "source": [
        "#f2(B,E)\n",
        "f2 = df_marginalize(multiply_tabular_cpds_v2(cpd_a, cpd_j),['A'])\n",
        "f2 = f2[f2['J']==1].drop(columns=['J'])"
      ],
      "execution_count": 0,
      "outputs": []
    },
    {
      "cell_type": "code",
      "metadata": {
        "id": "T0H-qcldwNm6",
        "colab_type": "code",
        "colab": {}
      },
      "source": [
        "#f3(B) = P(E) over E * f2(B,E)\n",
        "f3 = df_marginalize(multiply_tabular_cpds_v2(cpd_e,f2),['E'])"
      ],
      "execution_count": 0,
      "outputs": []
    },
    {
      "cell_type": "code",
      "metadata": {
        "id": "qCk4cXq_0txW",
        "colab_type": "code",
        "colab": {
          "base_uri": "https://localhost:8080/",
          "height": 111
        },
        "outputId": "db933477-0355-411f-c1bd-79dcad564daf"
      },
      "source": [
        "f3"
      ],
      "execution_count": 341,
      "outputs": [
        {
          "output_type": "execute_result",
          "data": {
            "text/html": [
              "<div>\n",
              "<style scoped>\n",
              "    .dataframe tbody tr th:only-of-type {\n",
              "        vertical-align: middle;\n",
              "    }\n",
              "\n",
              "    .dataframe tbody tr th {\n",
              "        vertical-align: top;\n",
              "    }\n",
              "\n",
              "    .dataframe thead th {\n",
              "        text-align: right;\n",
              "    }\n",
              "</style>\n",
              "<table border=\"1\" class=\"dataframe\">\n",
              "  <thead>\n",
              "    <tr style=\"text-align: right;\">\n",
              "      <th></th>\n",
              "      <th>B</th>\n",
              "      <th>Pr</th>\n",
              "    </tr>\n",
              "  </thead>\n",
              "  <tbody>\n",
              "    <tr>\n",
              "      <th>0</th>\n",
              "      <td>0</td>\n",
              "      <td>0.051341</td>\n",
              "    </tr>\n",
              "    <tr>\n",
              "      <th>1</th>\n",
              "      <td>1</td>\n",
              "      <td>0.849017</td>\n",
              "    </tr>\n",
              "  </tbody>\n",
              "</table>\n",
              "</div>"
            ],
            "text/plain": [
              "   B        Pr\n",
              "0  0  0.051341\n",
              "1  1  0.849017"
            ]
          },
          "metadata": {
            "tags": []
          },
          "execution_count": 341
        }
      ]
    },
    {
      "cell_type": "code",
      "metadata": {
        "id": "0yg7swl4ymy3",
        "colab_type": "code",
        "colab": {}
      },
      "source": [
        "answer = df_marginalize(multiply_tabular_cpds_v2(cpd_b,f3),['B'])"
      ],
      "execution_count": 0,
      "outputs": []
    },
    {
      "cell_type": "code",
      "metadata": {
        "id": "vvPpxUbc0JLW",
        "colab_type": "code",
        "colab": {}
      },
      "source": [
        ""
      ],
      "execution_count": 0,
      "outputs": []
    },
    {
      "cell_type": "markdown",
      "metadata": {
        "id": "lbvkO3bBesge",
        "colab_type": "text"
      },
      "source": [
        "### **Test 2**"
      ]
    },
    {
      "cell_type": "code",
      "metadata": {
        "id": "AHOijcB5evGN",
        "colab_type": "code",
        "colab": {}
      },
      "source": [
        "model = MyBayesianModel([('C', 'B'), ('B', 'A')])\n",
        "cpd_c = TabularCPD(variable='C', variable_card = 2, values=[[0.8,0.2]])\n",
        "cpd_a = TabularCPD(variable='A', variable_card=2, \n",
        "                   values=[[0.3, 0.9], \n",
        "                           [0.7, 0.1]],\n",
        "                   evidence = ['B'], \n",
        "                   evidence_card=[2] \n",
        "                   )\n",
        "cpd_b = TabularCPD(variable='B', variable_card=2, \n",
        "                   values=[[0.5, 0.4], \n",
        "                           [0.5, 0.6]], \n",
        "                   evidence = ['C'], \n",
        "                   evidence_card=[2])\n",
        "model.add_cpds([cpd_a, cpd_b, cpd_c])"
      ],
      "execution_count": 0,
      "outputs": []
    },
    {
      "cell_type": "code",
      "metadata": {
        "id": "G_ViDOe9sgoZ",
        "colab_type": "code",
        "colab": {
          "base_uri": "https://localhost:8080/",
          "height": 162
        },
        "outputId": "0a589f55-9d26-4a55-8eee-0588088002d4"
      },
      "source": [
        "infer = VariableElimination(model)\n",
        "infer.query(['A'])"
      ],
      "execution_count": 346,
      "outputs": [
        {
          "output_type": "stream",
          "text": [
            "P(B|C)\n",
            "P(C)\n",
            "P(A|B)\n"
          ],
          "name": "stdout"
        },
        {
          "output_type": "execute_result",
          "data": {
            "text/html": [
              "<div>\n",
              "<style scoped>\n",
              "    .dataframe tbody tr th:only-of-type {\n",
              "        vertical-align: middle;\n",
              "    }\n",
              "\n",
              "    .dataframe tbody tr th {\n",
              "        vertical-align: top;\n",
              "    }\n",
              "\n",
              "    .dataframe thead th {\n",
              "        text-align: right;\n",
              "    }\n",
              "</style>\n",
              "<table border=\"1\" class=\"dataframe\">\n",
              "  <thead>\n",
              "    <tr style=\"text-align: right;\">\n",
              "      <th></th>\n",
              "      <th>A</th>\n",
              "      <th>Pr</th>\n",
              "    </tr>\n",
              "  </thead>\n",
              "  <tbody>\n",
              "    <tr>\n",
              "      <th>0</th>\n",
              "      <td>0</td>\n",
              "      <td>0.612</td>\n",
              "    </tr>\n",
              "    <tr>\n",
              "      <th>1</th>\n",
              "      <td>1</td>\n",
              "      <td>0.388</td>\n",
              "    </tr>\n",
              "  </tbody>\n",
              "</table>\n",
              "</div>"
            ],
            "text/plain": [
              "   A     Pr\n",
              "0  0  0.612\n",
              "1  1  0.388"
            ]
          },
          "metadata": {
            "tags": []
          },
          "execution_count": 346
        }
      ]
    },
    {
      "cell_type": "code",
      "metadata": {
        "id": "W0iy0Qozsa4z",
        "colab_type": "code",
        "colab": {
          "base_uri": "https://localhost:8080/",
          "height": 34
        },
        "outputId": "78b68f49-9692-4b17-e967-c9424c790f2f"
      },
      "source": [
        "model.get_suggested_order()"
      ],
      "execution_count": 329,
      "outputs": [
        {
          "output_type": "execute_result",
          "data": {
            "text/plain": [
              "['A', 'C', 'B']"
            ]
          },
          "metadata": {
            "tags": []
          },
          "execution_count": 329
        }
      ]
    },
    {
      "cell_type": "markdown",
      "metadata": {
        "id": "LPYPpfv_HhBE",
        "colab_type": "text"
      },
      "source": [
        "Next steps:\n",
        "1. Redo Assignment 1 Q1 by hand. \n",
        "1.1 Look at an example of multiplying two CPDs\n",
        "2. Piece the algorithm together to try to compute it\n",
        "3. Test the algorithm again with the diagram from quiz 1 and compare against results from PGMPY \n",
        "4. Convert all pandas functions to numpy \n",
        "5. Write documentation "
      ]
    },
    {
      "cell_type": "markdown",
      "metadata": {
        "id": "6izkgdBYIw6H",
        "colab_type": "text"
      },
      "source": [
        "Does variable elimination happen once for each model or everytime you try to execute a different query? "
      ]
    }
  ]
}