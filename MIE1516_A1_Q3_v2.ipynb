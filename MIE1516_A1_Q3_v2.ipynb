{
  "nbformat": 4,
  "nbformat_minor": 0,
  "metadata": {
    "colab": {
      "name": "MIE1516_A1_Q3_v2.ipynb",
      "provenance": [],
      "collapsed_sections": [],
      "authorship_tag": "ABX9TyPTSLcXKKR128gJP7/Xq07f",
      "include_colab_link": true
    },
    "kernelspec": {
      "name": "python3",
      "display_name": "Python 3"
    }
  },
  "cells": [
    {
      "cell_type": "markdown",
      "metadata": {
        "id": "view-in-github",
        "colab_type": "text"
      },
      "source": [
        "<a href=\"https://colab.research.google.com/github/armandordorica/MIE1516_A1_Variable_Elimination/blob/master/MIE1516_A1_Q3_v2.ipynb\" target=\"_parent\"><img src=\"https://colab.research.google.com/assets/colab-badge.svg\" alt=\"Open In Colab\"/></a>"
      ]
    },
    {
      "cell_type": "code",
      "metadata": {
        "id": "-EeiMn2VkG10",
        "colab_type": "code",
        "colab": {
          "base_uri": "https://localhost:8080/",
          "height": 224
        },
        "outputId": "5d448fca-0a44-42f3-9109-9e19b938fabe"
      },
      "source": [
        "!pip install PrettyTable\n",
        "!pip install truths"
      ],
      "execution_count": 305,
      "outputs": [
        {
          "output_type": "stream",
          "text": [
            "Requirement already satisfied: PrettyTable in /usr/local/lib/python3.6/dist-packages (0.7.2)\n",
            "Collecting truths\n",
            "  Downloading https://files.pythonhosted.org/packages/3f/5a/bbdd1bd5caebb13cbbe23a4a4b7458e449235c8e8ea7075a34a48676ace7/truths-1.2.tar.gz\n",
            "Requirement already satisfied: prettytable in /usr/local/lib/python3.6/dist-packages (from truths) (0.7.2)\n",
            "Building wheels for collected packages: truths\n",
            "  Building wheel for truths (setup.py) ... \u001b[?25l\u001b[?25hdone\n",
            "  Created wheel for truths: filename=truths-1.2-cp36-none-any.whl size=7876 sha256=dc421fc839e2ec8d23d22606d9e0e6b5bc921541887e9f70e6202262e2145beb\n",
            "  Stored in directory: /root/.cache/pip/wheels/7b/86/9b/a9954e65607f963fc53e03f67d81950baabdd620685dd1127d\n",
            "Successfully built truths\n",
            "Installing collected packages: truths\n",
            "Successfully installed truths-1.2\n"
          ],
          "name": "stdout"
        }
      ]
    },
    {
      "cell_type": "code",
      "metadata": {
        "id": "4C15OxuQkKJa",
        "colab_type": "code",
        "colab": {}
      },
      "source": [
        "import prettytable\n",
        "import numpy as np\n",
        "pretty=prettytable.PrettyTable()"
      ],
      "execution_count": 0,
      "outputs": []
    },
    {
      "cell_type": "code",
      "metadata": {
        "id": "eeIuYHpCkL6t",
        "colab_type": "code",
        "colab": {}
      },
      "source": [
        "class MyBayesianModel: \n",
        "  def __init__(self, list_of_edges):\n",
        "    self.list_of_edges = list(list_of_edges)\n",
        "    self.tabular_cpds=[]\n",
        "\n",
        "  def get_variables(self):\n",
        "      list_of_tuples = list(self.list_of_edges)\n",
        "      list_of_items = [item for t in list_of_tuples for item in t] \n",
        "      list_set = set(list_of_items) \n",
        "      # convert the set to the list \n",
        "      unique_list_of_vars = (list(list_set))\n",
        "      print(unique_list_of_vars)\n",
        "\n",
        "  def available_cpds(self):\n",
        "    for i in range(0, len(self.tabular_cpds)):\n",
        "      self.tabular_cpds[i].print_factor()\n",
        "\n",
        "  def eliminate_variable(self, variable_to_eliminate):\n",
        "    print(\"Marginalize on {}\".format(variable_to_eliminate))\n",
        "    print(\"Multiply factors:\")\n",
        "    for i in range(0,len(self.tabular_cpds)):\n",
        "      if self.tabular_cpds[i].get_factor().contains_var(variable_to_eliminate):\n",
        "        self.tabular_cpds[i].print_factor()\n",
        "\n",
        "    print(\"CPDs are:\\n\")\n",
        "    for i in range(0,len(self.tabular_cpds)):\n",
        "      if self.tabular_cpds[i].get_factor().contains_var(variable_to_eliminate):\n",
        "        self.tabular_cpds[i].print_cpd()"
      ],
      "execution_count": 0,
      "outputs": []
    },
    {
      "cell_type": "code",
      "metadata": {
        "id": "9bBlCK5RfwPt",
        "colab_type": "code",
        "colab": {}
      },
      "source": [
        "class Factor:\n",
        "  def __init__(self, indep_var, dep_vars=[]):\n",
        "    self.indep_var = indep_var\n",
        "    self.dep_vars = dep_vars\n",
        "  \n",
        "  def print_factor(self):\n",
        "\n",
        "    if len(self.dep_vars)>0:\n",
        "      self.dep_vars = set(self.dep_vars)\n",
        "      self.dep_vars = list(self.dep_vars)\n",
        "      self.dep_vars.sort()\n",
        "      #print(self.dep_vars)\n",
        "      dep_vars = str(self.dep_vars[0])\n",
        "      for i in range (1, len(self.dep_vars)):\n",
        "        dep_vars = dep_vars + \",\" + self.dep_vars[i]\n",
        "      print(\"P({}|{})\".format(self.indep_var, dep_vars))\n",
        "    if len(self.dep_vars)==0:\n",
        "      print(\"P({})\".format(self.indep_var))\n",
        "\n",
        "  def vars_in_factor(self):\n",
        "    factors = list()\n",
        "    factors.append(str(self.indep_var))\n",
        "    for i in range (0, len(self.dep_vars)):\n",
        "      factors.append(self.dep_vars[i])\n",
        "    \n",
        "    list_set = set(factors) \n",
        "    # convert the set to the list \n",
        "    unique_list_of_vars = list(list_set)\n",
        "    unique_list_of_vars.sort(reverse=False)\n",
        "    # print(unique_list_of_vars)\n",
        "    return unique_list_of_vars\n",
        "\n",
        "  def contains_var(self, variable):\n",
        "    if variable in self.vars_in_factor():\n",
        "      return True\n",
        "    else:\n",
        "      return False\n",
        "\n",
        "  "
      ],
      "execution_count": 0,
      "outputs": []
    },
    {
      "cell_type": "code",
      "metadata": {
        "id": "eoSlFKa9kP5x",
        "colab_type": "code",
        "colab": {}
      },
      "source": [
        "class TabularCPD: \n",
        "  def __init__(self, variable, variable_card, values, evidence='', evidence_card=''): \n",
        "    self.variable = variable \n",
        "    self.variable_card = variable_card\n",
        "    self.values = values\n",
        "    self.evidence = evidence\n",
        "    self.evidence_card = evidence_card\n",
        "\n",
        "  # Initializing factors of the CPD depending on the format (whether evidence is provided or not)\n",
        "    if len(self.evidence)>0:\n",
        "      self.factors = []\n",
        "      self.factors.append(Factor(self.variable, self.evidence))\n",
        "    \n",
        "    if len(self.evidence)==0:\n",
        "      self.factors = []\n",
        "      self.factors.append(Factor(self.variable))\n",
        "    \n",
        "    model.tabular_cpds.append(self)\n",
        "  def print_cpd(self):\n",
        "    if len(self.evidence) > 0:\n",
        "      print(\"P({}|{})\".format(self.variable, self.evidence[0]))\n",
        "      pretty=prettytable.PrettyTable()\n",
        "      pretty.add_column(\"{}\".format(self.variable), [\"{}(0)\".format(self.variable),\"{}(1)\".format(self.variable)], align='l',valign='t')\n",
        "      \n",
        "      self.values = np.array(self.values)\n",
        "      self.values = self.values.transpose()\n",
        "\n",
        "      for i in range(0,len(self.values)):\n",
        "        pretty.add_column(\"{}({})\".format(self.evidence[0], i), self.values[i], align='l',valign='t')   \n",
        "      print(pretty)\n",
        "\n",
        "    else: \n",
        "      print(\"P({})\".format(self.variable))\n",
        "      pretty=prettytable.PrettyTable()\n",
        "      pretty.add_column(\"{}\".format(self.variable), [\"{}(0)\".format(self.variable),\"{}(1)\".format(self.variable)], align='l',valign='t')\n",
        "      pretty.add_column(\"Pr\", [item for t in self.values for item in t], align='l',valign='t')\n",
        "      print(pretty)\n",
        "\n",
        "  def get_factor(self):\n",
        "    return self.factors[0]\n",
        "    \n",
        "  def print_factor(self):\n",
        "    self.factors[0].print_factor()"
      ],
      "execution_count": 0,
      "outputs": []
    },
    {
      "cell_type": "code",
      "metadata": {
        "id": "o-M_xg-8zMGT",
        "colab_type": "code",
        "colab": {}
      },
      "source": [
        "  def eliminate_variable(list_of_factors, variable_to_eliminate):\n",
        "    print(\"Marginalize on {}\".format(variable_to_eliminate))\n",
        "    print(\"Multiply factors:\")\n",
        "    for i in range(0,len(list_of_factors)):\n",
        "      if list_of_factors[i].get_factor().contains_var(variable_to_eliminate):\n",
        "        list_of_factors[i].print_factor()\n",
        "\n",
        "    print(\"CPDs are:\\n\")\n",
        "    for i in range(0,len(list_of_factors)):\n",
        "      if list_of_factors[i].get_factor().contains_var(variable_to_eliminate):\n",
        "        list_of_factors[i].print_cpd()"
      ],
      "execution_count": 0,
      "outputs": []
    },
    {
      "cell_type": "code",
      "metadata": {
        "id": "OIy1scfoobKu",
        "colab_type": "code",
        "colab": {}
      },
      "source": [
        "model = MyBayesianModel([('C', 'B'), ('B', 'A')])\n",
        "cpd_c = TabularCPD(variable='C', variable_card = 2, values=[[0.8,0.2]])\n",
        "cpd_a = TabularCPD(variable='A', variable_card=2, \n",
        "                   values=[[0.3, 0.9], \n",
        "                           [0.7, 0.1]],\n",
        "                   evidence = ['B'], \n",
        "                   evidence_card=[2] \n",
        "                   )\n",
        "\n",
        "cpd_b = TabularCPD(variable='B', variable_card=2, \n",
        "                   values=[[0.5, 0.4], \n",
        "                           [0.5, 0.6]],\n",
        "                   evidence = ['C'], \n",
        "                   evidence_card=[2] \n",
        "                   )"
      ],
      "execution_count": 0,
      "outputs": []
    },
    {
      "cell_type": "code",
      "metadata": {
        "id": "5j7p7-Ke3PHj",
        "colab_type": "code",
        "colab": {
          "base_uri": "https://localhost:8080/",
          "height": 34
        },
        "outputId": "eddd00e6-80d7-44b2-9529-ef263e72368a"
      },
      "source": [
        "cpd_a.variable"
      ],
      "execution_count": 303,
      "outputs": [
        {
          "output_type": "execute_result",
          "data": {
            "text/plain": [
              "'A'"
            ]
          },
          "metadata": {
            "tags": []
          },
          "execution_count": 303
        }
      ]
    },
    {
      "cell_type": "code",
      "metadata": {
        "id": "M85GLZur5IPO",
        "colab_type": "code",
        "colab": {
          "base_uri": "https://localhost:8080/",
          "height": 68
        },
        "outputId": "95abcf9b-da7a-4160-a412-0876ecb3e276"
      },
      "source": [
        "d = {cpd_a.variable:[0,1], cpd}"
      ],
      "execution_count": 302,
      "outputs": [
        {
          "output_type": "execute_result",
          "data": {
            "text/plain": [
              "[<__main__.TabularCPD at 0x7efe8c304be0>,\n",
              " <__main__.TabularCPD at 0x7efe8c346630>,\n",
              " <__main__.TabularCPD at 0x7efe8c346f60>]"
            ]
          },
          "metadata": {
            "tags": []
          },
          "execution_count": 302
        }
      ]
    },
    {
      "cell_type": "code",
      "metadata": {
        "id": "t56nG70ODP1Z",
        "colab_type": "code",
        "colab": {}
      },
      "source": [
        "def toggle(var):\n",
        "  if var == 0:\n",
        "    return 1\n",
        "  if var == 1:\n",
        "    return 0\n",
        "\n",
        "def boolean_truth_table(num_vars):\n",
        "  truth_table = []\n",
        "  num_vars = num_vars\n",
        "  num_cols = num_vars\n",
        "  var = 1\n",
        "  num_rows = 2**num_vars\n",
        "  for col_num in range(0,num_cols):\n",
        "    truth_table.append([])\n",
        "    col_num = col_num+1\n",
        "    # print(\"col: {} toggle every {} values\".format(col_num, 2**(num_vars-col_num)))\n",
        "    for row_num in range(0, num_rows):\n",
        "      if row_num%2**(num_vars-col_num)==0:\n",
        "        var = toggle(var)\n",
        "      truth_table[col_num-1].append(var)\n",
        "      # print(truth_table[col_num-1])\n",
        "      # print(var)\n",
        "  return truth_table\n",
        "\n",
        "def generate_truth_table(list_of_variables):\n",
        "  d = dict()\n",
        "  num_vars = len(list_of_variables)\n",
        "  for i in range(0, num_vars): \n",
        "    d[str(list_of_variables[i])] = boolean_truth_table(len(list_of_variables))[i]\n",
        "  df = pd.DataFrame(data=d)\n",
        "  return df\n"
      ],
      "execution_count": 0,
      "outputs": []
    },
    {
      "cell_type": "code",
      "metadata": {
        "id": "g5YbMP8PTkhk",
        "colab_type": "code",
        "colab": {
          "base_uri": "https://localhost:8080/",
          "height": 85
        },
        "outputId": "6fcbefef-3e12-470b-ec16-daa08e8e1df1"
      },
      "source": [
        "boolean_truth_table(4)"
      ],
      "execution_count": 483,
      "outputs": [
        {
          "output_type": "execute_result",
          "data": {
            "text/plain": [
              "[[0, 0, 0, 0, 0, 0, 0, 0, 1, 1, 1, 1, 1, 1, 1, 1],\n",
              " [0, 0, 0, 0, 1, 1, 1, 1, 0, 0, 0, 0, 1, 1, 1, 1],\n",
              " [0, 0, 1, 1, 0, 0, 1, 1, 0, 0, 1, 1, 0, 0, 1, 1],\n",
              " [0, 1, 0, 1, 0, 1, 0, 1, 0, 1, 0, 1, 0, 1, 0, 1]]"
            ]
          },
          "metadata": {
            "tags": []
          },
          "execution_count": 483
        }
      ]
    },
    {
      "cell_type": "code",
      "metadata": {
        "id": "-lqHOWFuVC2k",
        "colab_type": "code",
        "colab": {
          "base_uri": "https://localhost:8080/",
          "height": 545
        },
        "outputId": "f0290b38-dc9e-4351-a7ac-a920df799473"
      },
      "source": [
        "generate_truth_table(['A', 'B', 'C', 'D'])"
      ],
      "execution_count": 486,
      "outputs": [
        {
          "output_type": "execute_result",
          "data": {
            "text/html": [
              "<div>\n",
              "<style scoped>\n",
              "    .dataframe tbody tr th:only-of-type {\n",
              "        vertical-align: middle;\n",
              "    }\n",
              "\n",
              "    .dataframe tbody tr th {\n",
              "        vertical-align: top;\n",
              "    }\n",
              "\n",
              "    .dataframe thead th {\n",
              "        text-align: right;\n",
              "    }\n",
              "</style>\n",
              "<table border=\"1\" class=\"dataframe\">\n",
              "  <thead>\n",
              "    <tr style=\"text-align: right;\">\n",
              "      <th></th>\n",
              "      <th>A</th>\n",
              "      <th>B</th>\n",
              "      <th>C</th>\n",
              "      <th>D</th>\n",
              "    </tr>\n",
              "  </thead>\n",
              "  <tbody>\n",
              "    <tr>\n",
              "      <th>0</th>\n",
              "      <td>0</td>\n",
              "      <td>0</td>\n",
              "      <td>0</td>\n",
              "      <td>0</td>\n",
              "    </tr>\n",
              "    <tr>\n",
              "      <th>1</th>\n",
              "      <td>0</td>\n",
              "      <td>0</td>\n",
              "      <td>0</td>\n",
              "      <td>1</td>\n",
              "    </tr>\n",
              "    <tr>\n",
              "      <th>2</th>\n",
              "      <td>0</td>\n",
              "      <td>0</td>\n",
              "      <td>1</td>\n",
              "      <td>0</td>\n",
              "    </tr>\n",
              "    <tr>\n",
              "      <th>3</th>\n",
              "      <td>0</td>\n",
              "      <td>0</td>\n",
              "      <td>1</td>\n",
              "      <td>1</td>\n",
              "    </tr>\n",
              "    <tr>\n",
              "      <th>4</th>\n",
              "      <td>0</td>\n",
              "      <td>1</td>\n",
              "      <td>0</td>\n",
              "      <td>0</td>\n",
              "    </tr>\n",
              "    <tr>\n",
              "      <th>5</th>\n",
              "      <td>0</td>\n",
              "      <td>1</td>\n",
              "      <td>0</td>\n",
              "      <td>1</td>\n",
              "    </tr>\n",
              "    <tr>\n",
              "      <th>6</th>\n",
              "      <td>0</td>\n",
              "      <td>1</td>\n",
              "      <td>1</td>\n",
              "      <td>0</td>\n",
              "    </tr>\n",
              "    <tr>\n",
              "      <th>7</th>\n",
              "      <td>0</td>\n",
              "      <td>1</td>\n",
              "      <td>1</td>\n",
              "      <td>1</td>\n",
              "    </tr>\n",
              "    <tr>\n",
              "      <th>8</th>\n",
              "      <td>1</td>\n",
              "      <td>0</td>\n",
              "      <td>0</td>\n",
              "      <td>0</td>\n",
              "    </tr>\n",
              "    <tr>\n",
              "      <th>9</th>\n",
              "      <td>1</td>\n",
              "      <td>0</td>\n",
              "      <td>0</td>\n",
              "      <td>1</td>\n",
              "    </tr>\n",
              "    <tr>\n",
              "      <th>10</th>\n",
              "      <td>1</td>\n",
              "      <td>0</td>\n",
              "      <td>1</td>\n",
              "      <td>0</td>\n",
              "    </tr>\n",
              "    <tr>\n",
              "      <th>11</th>\n",
              "      <td>1</td>\n",
              "      <td>0</td>\n",
              "      <td>1</td>\n",
              "      <td>1</td>\n",
              "    </tr>\n",
              "    <tr>\n",
              "      <th>12</th>\n",
              "      <td>1</td>\n",
              "      <td>1</td>\n",
              "      <td>0</td>\n",
              "      <td>0</td>\n",
              "    </tr>\n",
              "    <tr>\n",
              "      <th>13</th>\n",
              "      <td>1</td>\n",
              "      <td>1</td>\n",
              "      <td>0</td>\n",
              "      <td>1</td>\n",
              "    </tr>\n",
              "    <tr>\n",
              "      <th>14</th>\n",
              "      <td>1</td>\n",
              "      <td>1</td>\n",
              "      <td>1</td>\n",
              "      <td>0</td>\n",
              "    </tr>\n",
              "    <tr>\n",
              "      <th>15</th>\n",
              "      <td>1</td>\n",
              "      <td>1</td>\n",
              "      <td>1</td>\n",
              "      <td>1</td>\n",
              "    </tr>\n",
              "  </tbody>\n",
              "</table>\n",
              "</div>"
            ],
            "text/plain": [
              "    A  B  C  D\n",
              "0   0  0  0  0\n",
              "1   0  0  0  1\n",
              "2   0  0  1  0\n",
              "3   0  0  1  1\n",
              "4   0  1  0  0\n",
              "5   0  1  0  1\n",
              "6   0  1  1  0\n",
              "7   0  1  1  1\n",
              "8   1  0  0  0\n",
              "9   1  0  0  1\n",
              "10  1  0  1  0\n",
              "11  1  0  1  1\n",
              "12  1  1  0  0\n",
              "13  1  1  0  1\n",
              "14  1  1  1  0\n",
              "15  1  1  1  1"
            ]
          },
          "metadata": {
            "tags": []
          },
          "execution_count": 486
        }
      ]
    },
    {
      "cell_type": "code",
      "metadata": {
        "id": "QLrbq_xsVGdJ",
        "colab_type": "code",
        "colab": {}
      },
      "source": [
        "df = pd.DataFrame(data=d)"
      ],
      "execution_count": 0,
      "outputs": []
    },
    {
      "cell_type": "code",
      "metadata": {
        "id": "8VsMM-tyVhXm",
        "colab_type": "code",
        "colab": {
          "base_uri": "https://localhost:8080/",
          "height": 545
        },
        "outputId": "f765d242-564a-4794-a860-1dfc815dc0e0"
      },
      "source": [
        "df"
      ],
      "execution_count": 451,
      "outputs": [
        {
          "output_type": "execute_result",
          "data": {
            "text/html": [
              "<div>\n",
              "<style scoped>\n",
              "    .dataframe tbody tr th:only-of-type {\n",
              "        vertical-align: middle;\n",
              "    }\n",
              "\n",
              "    .dataframe tbody tr th {\n",
              "        vertical-align: top;\n",
              "    }\n",
              "\n",
              "    .dataframe thead th {\n",
              "        text-align: right;\n",
              "    }\n",
              "</style>\n",
              "<table border=\"1\" class=\"dataframe\">\n",
              "  <thead>\n",
              "    <tr style=\"text-align: right;\">\n",
              "      <th></th>\n",
              "      <th>A</th>\n",
              "      <th>B</th>\n",
              "      <th>C</th>\n",
              "      <th>D</th>\n",
              "    </tr>\n",
              "  </thead>\n",
              "  <tbody>\n",
              "    <tr>\n",
              "      <th>0</th>\n",
              "      <td>0</td>\n",
              "      <td>0</td>\n",
              "      <td>0</td>\n",
              "      <td>0</td>\n",
              "    </tr>\n",
              "    <tr>\n",
              "      <th>1</th>\n",
              "      <td>0</td>\n",
              "      <td>0</td>\n",
              "      <td>0</td>\n",
              "      <td>1</td>\n",
              "    </tr>\n",
              "    <tr>\n",
              "      <th>2</th>\n",
              "      <td>0</td>\n",
              "      <td>0</td>\n",
              "      <td>1</td>\n",
              "      <td>0</td>\n",
              "    </tr>\n",
              "    <tr>\n",
              "      <th>3</th>\n",
              "      <td>0</td>\n",
              "      <td>0</td>\n",
              "      <td>1</td>\n",
              "      <td>1</td>\n",
              "    </tr>\n",
              "    <tr>\n",
              "      <th>4</th>\n",
              "      <td>0</td>\n",
              "      <td>1</td>\n",
              "      <td>0</td>\n",
              "      <td>0</td>\n",
              "    </tr>\n",
              "    <tr>\n",
              "      <th>5</th>\n",
              "      <td>0</td>\n",
              "      <td>1</td>\n",
              "      <td>0</td>\n",
              "      <td>1</td>\n",
              "    </tr>\n",
              "    <tr>\n",
              "      <th>6</th>\n",
              "      <td>0</td>\n",
              "      <td>1</td>\n",
              "      <td>1</td>\n",
              "      <td>0</td>\n",
              "    </tr>\n",
              "    <tr>\n",
              "      <th>7</th>\n",
              "      <td>0</td>\n",
              "      <td>1</td>\n",
              "      <td>1</td>\n",
              "      <td>1</td>\n",
              "    </tr>\n",
              "    <tr>\n",
              "      <th>8</th>\n",
              "      <td>1</td>\n",
              "      <td>0</td>\n",
              "      <td>0</td>\n",
              "      <td>0</td>\n",
              "    </tr>\n",
              "    <tr>\n",
              "      <th>9</th>\n",
              "      <td>1</td>\n",
              "      <td>0</td>\n",
              "      <td>0</td>\n",
              "      <td>1</td>\n",
              "    </tr>\n",
              "    <tr>\n",
              "      <th>10</th>\n",
              "      <td>1</td>\n",
              "      <td>0</td>\n",
              "      <td>1</td>\n",
              "      <td>0</td>\n",
              "    </tr>\n",
              "    <tr>\n",
              "      <th>11</th>\n",
              "      <td>1</td>\n",
              "      <td>0</td>\n",
              "      <td>1</td>\n",
              "      <td>1</td>\n",
              "    </tr>\n",
              "    <tr>\n",
              "      <th>12</th>\n",
              "      <td>1</td>\n",
              "      <td>1</td>\n",
              "      <td>0</td>\n",
              "      <td>0</td>\n",
              "    </tr>\n",
              "    <tr>\n",
              "      <th>13</th>\n",
              "      <td>1</td>\n",
              "      <td>1</td>\n",
              "      <td>0</td>\n",
              "      <td>1</td>\n",
              "    </tr>\n",
              "    <tr>\n",
              "      <th>14</th>\n",
              "      <td>1</td>\n",
              "      <td>1</td>\n",
              "      <td>1</td>\n",
              "      <td>0</td>\n",
              "    </tr>\n",
              "    <tr>\n",
              "      <th>15</th>\n",
              "      <td>1</td>\n",
              "      <td>1</td>\n",
              "      <td>1</td>\n",
              "      <td>1</td>\n",
              "    </tr>\n",
              "  </tbody>\n",
              "</table>\n",
              "</div>"
            ],
            "text/plain": [
              "    A  B  C  D\n",
              "0   0  0  0  0\n",
              "1   0  0  0  1\n",
              "2   0  0  1  0\n",
              "3   0  0  1  1\n",
              "4   0  1  0  0\n",
              "5   0  1  0  1\n",
              "6   0  1  1  0\n",
              "7   0  1  1  1\n",
              "8   1  0  0  0\n",
              "9   1  0  0  1\n",
              "10  1  0  1  0\n",
              "11  1  0  1  1\n",
              "12  1  1  0  0\n",
              "13  1  1  0  1\n",
              "14  1  1  1  0\n",
              "15  1  1  1  1"
            ]
          },
          "metadata": {
            "tags": []
          },
          "execution_count": 451
        }
      ]
    },
    {
      "cell_type": "code",
      "metadata": {
        "id": "uPErNZSvUKjq",
        "colab_type": "code",
        "colab": {}
      },
      "source": [
        ">>> d = {'col1': [1, 2], 'col2': [3, 4]}\n",
        ">>> df = pd.DataFrame(data=d)\n",
        ">>> df\n",
        "   col1  col2\n",
        "0     1     3\n",
        "1     2     4"
      ],
      "execution_count": 0,
      "outputs": []
    }
  ]
}