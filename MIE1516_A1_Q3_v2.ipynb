{
  "nbformat": 4,
  "nbformat_minor": 0,
  "metadata": {
    "colab": {
      "name": "MIE1516_A1_Q3_v2.ipynb",
      "provenance": [],
      "collapsed_sections": [],
      "authorship_tag": "ABX9TyMk/KkbGU17gDbCO1meJkuf",
      "include_colab_link": true
    },
    "kernelspec": {
      "name": "python3",
      "display_name": "Python 3"
    }
  },
  "cells": [
    {
      "cell_type": "markdown",
      "metadata": {
        "id": "view-in-github",
        "colab_type": "text"
      },
      "source": [
        "<a href=\"https://colab.research.google.com/github/armandordorica/MIE1516_A1_Variable_Elimination/blob/master/MIE1516_A1_Q3_v2.ipynb\" target=\"_parent\"><img src=\"https://colab.research.google.com/assets/colab-badge.svg\" alt=\"Open In Colab\"/></a>"
      ]
    },
    {
      "cell_type": "code",
      "metadata": {
        "id": "-EeiMn2VkG10",
        "colab_type": "code",
        "colab": {
          "base_uri": "https://localhost:8080/",
          "height": 68
        },
        "outputId": "10c1396a-22c9-4ac1-b7f1-f34d8b00af58"
      },
      "source": [
        "!pip install PrettyTable\n",
        "!pip install truths"
      ],
      "execution_count": 291,
      "outputs": [
        {
          "output_type": "stream",
          "text": [
            "Requirement already satisfied: PrettyTable in /usr/local/lib/python3.6/dist-packages (0.7.2)\n",
            "Requirement already satisfied: truths in /usr/local/lib/python3.6/dist-packages (1.2)\n",
            "Requirement already satisfied: prettytable in /usr/local/lib/python3.6/dist-packages (from truths) (0.7.2)\n"
          ],
          "name": "stdout"
        }
      ]
    },
    {
      "cell_type": "code",
      "metadata": {
        "id": "4C15OxuQkKJa",
        "colab_type": "code",
        "colab": {}
      },
      "source": [
        "import prettytable\n",
        "import numpy as np\n",
        "import pandas as pd\n",
        "pretty=prettytable.PrettyTable()"
      ],
      "execution_count": 0,
      "outputs": []
    },
    {
      "cell_type": "markdown",
      "metadata": {
        "id": "3y3MYKPe5_XM",
        "colab_type": "text"
      },
      "source": [
        "## Global functions (for now)"
      ]
    },
    {
      "cell_type": "code",
      "metadata": {
        "id": "4D9Vwx7KXszd",
        "colab_type": "code",
        "colab": {}
      },
      "source": [
        "def toggle(var):\n",
        "  if var == 0:\n",
        "    return 1\n",
        "  if var == 1:\n",
        "    return 0\n",
        "\n",
        "def boolean_truth_table(num_vars):\n",
        "  truth_table = []\n",
        "  num_vars = num_vars\n",
        "  num_cols = num_vars\n",
        "  var = 1\n",
        "  num_rows = 2**num_vars\n",
        "  for col_num in range(0,num_cols):\n",
        "    truth_table.append([])\n",
        "    col_num = col_num+1\n",
        "    # print(\"col: {} toggle every {} values\".format(col_num, 2**(num_vars-col_num)))\n",
        "    for row_num in range(0, num_rows):\n",
        "      if row_num%2**(num_vars-col_num)==0:\n",
        "        var = toggle(var)\n",
        "      truth_table[col_num-1].append(var)\n",
        "      # print(truth_table[col_num-1])\n",
        "      # print(var)\n",
        "  return truth_table\n",
        "\n",
        "def generate_truth_table(list_of_variables):\n",
        "  d = dict()\n",
        "  num_vars = len(list_of_variables)\n",
        "  for i in range(0, num_vars): \n",
        "    d[str(list_of_variables[i])] = boolean_truth_table(len(list_of_variables))[i]\n",
        "  df = pd.DataFrame(data=d)\n",
        "  return df\n",
        "\n",
        "def multiply_tabular_cpds(tabular_cpd1, tabular_cpd2, var_to_marginalize):\n",
        "  df1 = tabular_cpd1.to_pandas_df()\n",
        "  df1 = tabular_cpd1.to_pandas_df()\n",
        "\n",
        "  vars_factor_1 = tabular_cpd1.get_factor().vars_in_factor()\n",
        "  vars_factor_1.remove(var_to_marginalize)\n",
        "\n",
        "  vars_factor_2 = tabular_cpd2.get_factor().vars_in_factor()\n",
        "  vars_factor_2.remove(var_to_marginalize)\n",
        "\n",
        "  total_vars = []\n",
        "  total_vars.append(vars_factor_1[0])\n",
        "  total_vars.append(vars_factor_2[0])\n",
        "  output_table = generate_truth_table(total_vars) \n",
        "\n",
        "  vars_factor_1.append('Pr')\n",
        "  vars_factor_2.append('Pr')\n",
        "\n",
        "  result = pd.merge(df1, df2, on='B', how='inner')\n",
        "  r0 = result[result['B']==0].Pr_x*result[result['B']==0].Pr_y\n",
        "  r1 = (result[result['B']==1].Pr_x*result[result['B']==1].Pr_y).reset_index(drop=True)\n",
        "  output_table['Pr']= r0.add(r1, fill_value=0)\n",
        "  output_table\n",
        "  return output_table"
      ],
      "execution_count": 0,
      "outputs": []
    },
    {
      "cell_type": "code",
      "metadata": {
        "id": "l0uYBuITxOFE",
        "colab_type": "code",
        "colab": {}
      },
      "source": [
        "class Node:\n",
        "  def __init__(self, name, parents='', children=''):\n",
        "    self.name = name\n",
        "    self.parents = parents\n",
        "    self.children = children"
      ],
      "execution_count": 0,
      "outputs": []
    },
    {
      "cell_type": "code",
      "metadata": {
        "id": "eeIuYHpCkL6t",
        "colab_type": "code",
        "colab": {}
      },
      "source": [
        "class MyBayesianModel: \n",
        "  def __init__(self, list_of_edges, nodes=[]):\n",
        "    self.list_of_edges = list(list_of_edges)\n",
        "    self.nodes = nodes # list(set([k for i in list_of_edges for k in i]))\n",
        "    self.tabular_cpds=[]\n",
        "\n",
        "  def get_suggested_order(self):\n",
        "    variables = [''] *len(self.nodes)\n",
        "    parents = np.zeros(len(self.nodes))\n",
        "    children= np.zeros(len(self.nodes))\n",
        "\n",
        "    for i in range(0, len(self.nodes)):\n",
        "      variables[i]=self.nodes[i].name\n",
        "      parents[i]=len(self.nodes[i].parents)\n",
        "      children[i]=len(self.nodes[i].children)\n",
        "      # print(self.nodes[i].name, self.nodes[i].parents, self.nodes[i].children)\n",
        "\n",
        "    df = pd.DataFrame(variables, columns =['Variables']) \n",
        "    df['Parents'] = parents\n",
        "    df['Children'] = children\n",
        "    df['Total'] = df['Parents']+df['Children']\n",
        "    suggested_order = list(df.sort_values(by=['Total'])['Variables'])\n",
        "    return suggested_order\n",
        "\n",
        "  def print_all_factors(self):\n",
        "    for i in range(0, len(self.tabular_cpds)):\n",
        "      self.tabular_cpds[i].print_factor()\n",
        "\n",
        "  def get_variables(self):\n",
        "      list_of_tuples = list(self.list_of_edges)\n",
        "      list_of_items = [item for t in list_of_tuples for item in t] \n",
        "      list_set = set(list_of_items) \n",
        "      # convert the set to the list \n",
        "      unique_list_of_vars = (list(list_set))\n",
        "      print(unique_list_of_vars)\n",
        "\n",
        "  def available_cpds(self):\n",
        "    for i in range(0, len(self.tabular_cpds)):\n",
        "      self.tabular_cpds[i].print_factor()\n",
        "\n",
        "  def eliminate_variable(self, variable_to_eliminate):\n",
        "    print(\"Marginalize on {}\".format(variable_to_eliminate))\n",
        "    print(\"Multiply factors:\")\n",
        "    for i in range(0,len(self.tabular_cpds)):\n",
        "      if self.tabular_cpds[i].get_factor().contains_var(variable_to_eliminate):\n",
        "        self.tabular_cpds[i].print_factor()\n",
        "\n",
        "    print(\"CPDs are:\\n\")\n",
        "    for i in range(0,len(self.tabular_cpds)):\n",
        "      if self.tabular_cpds[i].get_factor().contains_var(variable_to_eliminate):\n",
        "        self.tabular_cpds[i].print_cpd()"
      ],
      "execution_count": 0,
      "outputs": []
    },
    {
      "cell_type": "code",
      "metadata": {
        "id": "9bBlCK5RfwPt",
        "colab_type": "code",
        "colab": {}
      },
      "source": [
        "class Factor:\n",
        "  def __init__(self, indep_var, dep_vars=[]):\n",
        "    self.indep_var = indep_var\n",
        "    self.dep_vars = dep_vars\n",
        "  \n",
        "  def print_factor(self):\n",
        "    if len(self.dep_vars)>0:\n",
        "      self.dep_vars = set(self.dep_vars)\n",
        "      self.dep_vars = list(self.dep_vars)\n",
        "      self.dep_vars.sort()\n",
        "      #print(self.dep_vars)\n",
        "      dep_vars = str(self.dep_vars[0])\n",
        "      for i in range (1, len(self.dep_vars)):\n",
        "        dep_vars = dep_vars + \",\" + self.dep_vars[i]\n",
        "      print(\"P({}|{})\".format(self.indep_var, dep_vars))\n",
        "    if len(self.dep_vars)==0:\n",
        "      print(\"P({})\".format(self.indep_var))\n",
        "\n",
        "  def vars_in_factor(self):\n",
        "    factors = list()\n",
        "    factors.append(str(self.indep_var))\n",
        "    for i in range (0, len(self.dep_vars)):\n",
        "      factors.append(self.dep_vars[i])\n",
        "    \n",
        "    list_set = set(factors) \n",
        "    # convert the set to the list \n",
        "    unique_list_of_vars = list(list_set)\n",
        "    unique_list_of_vars.sort(reverse=False)\n",
        "    # print(unique_list_of_vars)\n",
        "    return unique_list_of_vars\n",
        "\n",
        "  def contains_var(self, variable):\n",
        "    if variable in self.vars_in_factor():\n",
        "      return True\n",
        "    else:\n",
        "      return False\n",
        "\n",
        "  "
      ],
      "execution_count": 0,
      "outputs": []
    },
    {
      "cell_type": "code",
      "metadata": {
        "id": "eoSlFKa9kP5x",
        "colab_type": "code",
        "colab": {}
      },
      "source": [
        "class TabularCPD: \n",
        "  def __init__(self, variable, variable_card, values, evidence='', evidence_card=''): \n",
        "    self.variable = variable \n",
        "    self.variable_card = variable_card\n",
        "    self.values = values\n",
        "    self.evidence = evidence\n",
        "    self.evidence_card = evidence_card\n",
        "\n",
        "  # Initializing factors of the CPD depending on the format (whether evidence is provided or not)\n",
        "    if len(self.evidence)>0:\n",
        "      self.factors = []\n",
        "      self.factors.append(Factor(self.variable, self.evidence))\n",
        "    \n",
        "    if len(self.evidence)==0:\n",
        "      self.factors = []\n",
        "      self.factors.append(Factor(self.variable))\n",
        "    \n",
        "    model.tabular_cpds.append(self)\n",
        "\n",
        "    edges_with_children=[item for item in model.list_of_edges if item[0] == self.variable]\n",
        "\n",
        "    if len(edges_with_children)>0: \n",
        "      model.nodes.append(Node(self.variable, \n",
        "                        self.evidence, \n",
        "                        [item for item in model.list_of_edges if item[0] == self.variable][0][1]))\n",
        "      \n",
        "    elif len(edges_with_children)==0: \n",
        "      model.nodes.append(Node(self.variable, \n",
        "                        self.evidence ))\n",
        "      \n",
        "    self.all_variables = []\n",
        "    self.all_variables.append(self.variable)\n",
        "    for i in range (0, len(self.evidence)):\n",
        "      self.all_variables.append(self.evidence[i])\n",
        "\n",
        "    self.truth_table = generate_truth_table(self.all_variables)\n",
        "    self.probabilities = []\n",
        "\n",
        "    for i in range(0, len(self.values)):\n",
        "      for j in range(0, len(self.values[i])):\n",
        "        self.probabilities.append(self.values[i][j])\n",
        "\n",
        "    probs = np.asarray(self.probabilities, dtype=np.float32)\n",
        "    self.truth_table['Pr'] = probs\n",
        "\n",
        "  def get_factor(self):\n",
        "    \"\"\"Returns all the factors associated with a TabularCPD\"\"\"\n",
        "    return self.factors[0]\n",
        "\n",
        "  def print_factor(self):\n",
        "    self.factors[0].print_factor()\n",
        "  \n",
        "  def to_truth_table(self):\n",
        "    # self.all_variables = []\n",
        "    # self.all_variables.append(self.variable)\n",
        "    # for i in range (0, len(self.evidence)):\n",
        "    #   self.all_variables.append(self.evidence[i])\n",
        "    self.truth_table = generate_truth_table(self.all_variables)\n",
        "\n",
        "    self.probabilities = []\n",
        "\n",
        "    for i in range(0, len(self.values)):\n",
        "      for j in range(0, len(self.values[i])):\n",
        "        self.probabilities.append(self.values[i][j])\n",
        "\n",
        "    probs = np.asarray(self.probabilities, dtype=np.float32)\n",
        "    self.truth_table['Pr'] = probs\n",
        "\n",
        "    return self.truth_table\n",
        "\n",
        "  def marginalize(self, var_to_marginalize): \n",
        "    #marginalize by \"E\"\n",
        "    #var_to_marginalize = 'E'\n",
        "    #keeping only the values to group by that are not the variable you want to marginalize on \n",
        "    group_by_list = list(filter(lambda a: a != var_to_marginalize, self.all_variables))\n",
        "    df = self.truth_table.groupby(group_by_list).sum()\n",
        "    df = df.drop(columns=[var_to_marginalize])\n",
        "    return df \n",
        "\n",
        "  def to_pandas_df(self): \n",
        "    df = pd.DataFrame.from_records(self.values)\n",
        "    if self.evidence!='':\n",
        "      df = df.transpose()\n",
        "\n",
        "    # for every column append the name of the tabular self variable \n",
        "    cols_in_df = len(df.columns)\n",
        "    rows_in_df = len(df.index)\n",
        "\n",
        "\n",
        "    for i in range(0, cols_in_df):\n",
        "      df.rename(columns={ df.columns[i]: str(self.variable)+\"_\"+str(i) }, inplace = True)\n",
        "\n",
        "    df.reset_index(inplace=True)\n",
        "\n",
        "    if self.evidence!='':\n",
        "      for i in range(0, rows_in_df):\n",
        "        df.iloc[i,0] = str(self.evidence[0])+\"_\"+str(i)\n",
        "\n",
        "\n",
        "    df.set_index('index')\n",
        "\n",
        "    if self.evidence_card == [2,2]:\n",
        "      df = pd.DataFrame.from_records(self.values)\n",
        "      df = df.transpose()\n",
        "\n",
        "      # for every column append the name of the tabular self variable \n",
        "      cols_in_df = len(df.columns)\n",
        "      rows_in_df = len(df.index)\n",
        "\n",
        "      for i in range(0, cols_in_df):\n",
        "        df.rename(columns={ df.columns[i]: str(self.variable)+\"_\"+str(i) }, inplace = True)\n",
        "\n",
        "      data = df\n",
        "      df =generate_truth_table(self.evidence) \n",
        "      df['index']= str(self.evidence[0]) + \"_\" + df[str(self.evidence[0])].astype(str) + \"_\" + str(self.evidence[1]) + \"_\"+df[str(self.evidence[1])].astype(str)\n",
        "      df = df[['index']]\n",
        "      df_final = pd.concat([df, data], axis=1)\n",
        "      df_final.set_index('index')\n",
        "      return df_final.set_index('index')\n",
        "    return df.set_index('index')"
      ],
      "execution_count": 0,
      "outputs": []
    },
    {
      "cell_type": "code",
      "metadata": {
        "id": "OIy1scfoobKu",
        "colab_type": "code",
        "colab": {}
      },
      "source": [
        "\n",
        "model = MyBayesianModel([('A','C'), ('B', 'C'), ('C', 'G'), ('E', 'D'), ('F', 'D'), ('D', 'G')])\n",
        "# Defining individual CPDs.\n",
        "# # let 0 denote not wavy and 1  wavy\n",
        "cpd_a = TabularCPD(variable='A', variable_card = 2, values=[[0.8,0.2]])\n",
        "cpd_b = TabularCPD(variable='B', variable_card = 2, values=[[0.8,0.2]])\n",
        "cpd_e = TabularCPD(variable='E', variable_card = 2, values=[[0.8,0.2]])\n",
        "cpd_f = TabularCPD(variable='F', variable_card = 2, values=[[0.8,0.2]])\n",
        "\n",
        "cpd_c = TabularCPD(variable='C', variable_card=2, \n",
        "                   values=[[0.90, 0.45, 0.45, 0.10], \n",
        "                           [0.10, 0.55, 0.55, 0.90]], \n",
        "                   evidence=['A', 'B'], \n",
        "                   evidence_card=[2,2])\n",
        "\n",
        "cpd_d = TabularCPD(variable='D', variable_card=2, \n",
        "                   values=[[0.90, 0.45, 0.45, 0.10], \n",
        "                           [0.10, 0.55, 0.55, 0.90]], \n",
        "                   evidence=['E', 'F'], \n",
        "                   evidence_card=[2,2])\n",
        "cpd_g = TabularCPD(variable='G', variable_card=2, \n",
        "                   values=[[0.90, 0.45, 0.45, 0.10], \n",
        "                           [0.10, 0.55, 0.55, 0.90]], \n",
        "                   evidence=['C', 'D'], \n",
        "                   evidence_card=[2,2])"
      ],
      "execution_count": 0,
      "outputs": []
    },
    {
      "cell_type": "code",
      "metadata": {
        "id": "OPzt7Tuk4RlF",
        "colab_type": "code",
        "colab": {
          "base_uri": "https://localhost:8080/",
          "height": 136
        },
        "outputId": "f277c140-da44-45f3-bbbb-2509cbb32341"
      },
      "source": [
        "model.print_all_factors()"
      ],
      "execution_count": 302,
      "outputs": [
        {
          "output_type": "stream",
          "text": [
            "P(A)\n",
            "P(B)\n",
            "P(E)\n",
            "P(F)\n",
            "P(C|A,B)\n",
            "P(D|E,F)\n",
            "P(G|C,D)\n"
          ],
          "name": "stdout"
        }
      ]
    },
    {
      "cell_type": "code",
      "metadata": {
        "id": "OKp76ioJG3Qu",
        "colab_type": "code",
        "colab": {
          "base_uri": "https://localhost:8080/",
          "height": 34
        },
        "outputId": "5f5c2c4f-6dd2-4142-cb96-275f03fff45e"
      },
      "source": [
        "model.get_suggested_order()"
      ],
      "execution_count": 303,
      "outputs": [
        {
          "output_type": "execute_result",
          "data": {
            "text/plain": [
              "['A', 'B', 'E', 'F', 'G', 'C', 'D']"
            ]
          },
          "metadata": {
            "tags": []
          },
          "execution_count": 303
        }
      ]
    },
    {
      "cell_type": "markdown",
      "metadata": {
        "id": "LPYPpfv_HhBE",
        "colab_type": "text"
      },
      "source": [
        "Next steps:\n",
        "1. Redo Assignment 1 Q1 by hand. \n",
        "2. Piece the algorithm together to try to compute it\n",
        "3. Test the algorithm again with the diagram from quiz 1 and compare against results from PGMPY \n",
        "4. Convert all pandas functions to numpy \n",
        "5. Write documentation "
      ]
    },
    {
      "cell_type": "code",
      "metadata": {
        "id": "hKY_qhCZGvJ5",
        "colab_type": "code",
        "colab": {}
      },
      "source": [
        ""
      ],
      "execution_count": 0,
      "outputs": []
    }
  ]
}