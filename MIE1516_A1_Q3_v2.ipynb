{
  "nbformat": 4,
  "nbformat_minor": 0,
  "metadata": {
    "colab": {
      "name": "MIE1516_A1_Q3_v2.ipynb",
      "provenance": [],
      "authorship_tag": "ABX9TyP2FaML4jBu8w98cg1MClRh",
      "include_colab_link": true
    },
    "kernelspec": {
      "name": "python3",
      "display_name": "Python 3"
    }
  },
  "cells": [
    {
      "cell_type": "markdown",
      "metadata": {
        "id": "view-in-github",
        "colab_type": "text"
      },
      "source": [
        "<a href=\"https://colab.research.google.com/github/armandordorica/MIE1516_A1_Variable_Elimination/blob/master/MIE1516_A1_Q3_v2.ipynb\" target=\"_parent\"><img src=\"https://colab.research.google.com/assets/colab-badge.svg\" alt=\"Open In Colab\"/></a>"
      ]
    },
    {
      "cell_type": "code",
      "metadata": {
        "id": "-EeiMn2VkG10",
        "colab_type": "code",
        "colab": {
          "base_uri": "https://localhost:8080/",
          "height": 34
        },
        "outputId": "f8c7f2e2-34b7-4e75-fa07-ae007bd0d18d"
      },
      "source": [
        "!pip install PrettyTable"
      ],
      "execution_count": 1,
      "outputs": [
        {
          "output_type": "stream",
          "text": [
            "Requirement already satisfied: PrettyTable in /usr/local/lib/python3.6/dist-packages (0.7.2)\n"
          ],
          "name": "stdout"
        }
      ]
    },
    {
      "cell_type": "code",
      "metadata": {
        "id": "4C15OxuQkKJa",
        "colab_type": "code",
        "colab": {}
      },
      "source": [
        "import prettytable\n",
        "import numpy as np\n",
        "pretty=prettytable.PrettyTable()"
      ],
      "execution_count": 0,
      "outputs": []
    },
    {
      "cell_type": "code",
      "metadata": {
        "id": "eeIuYHpCkL6t",
        "colab_type": "code",
        "colab": {}
      },
      "source": [
        "class MyBayesianModel: \n",
        "  def __init__(self, list_of_edges):\n",
        "    self.list_of_edges = list(list_of_edges)\n",
        "\n",
        "  def get_variables(self):\n",
        "      list_of_tuples = list(self.list_of_edges)\n",
        "      list_of_items = [item for t in list_of_tuples for item in t] \n",
        "      list_set = set(list_of_items) \n",
        "      # convert the set to the list \n",
        "      unique_list_of_vars = (list(list_set))\n",
        "      print(unique_list_of_vars)"
      ],
      "execution_count": 0,
      "outputs": []
    },
    {
      "cell_type": "code",
      "metadata": {
        "id": "9bBlCK5RfwPt",
        "colab_type": "code",
        "colab": {}
      },
      "source": [
        "class Factor:\n",
        "  def __init__(self, indep_var, dep_vars):\n",
        "    self.indep_var = indep_var\n",
        "    self.dep_vars = dep_vars\n",
        "  \n",
        "  def print_factor(self):\n",
        "    dep_vars = str(self.dep_vars[0])\n",
        "    for i in range (1, len(self.dep_vars)):\n",
        "      dep_vars = dep_vars + \",\" + self.dep_vars[i]\n",
        "    print(\"P({}|{})\".format(self.indep_var, dep_vars))\n",
        "  \n",
        "  def vars_in_factor(self):\n",
        "    factors = list()\n",
        "    factors.append(str(self.indep_var))\n",
        "    for i in range (0, len(self.dep_vars)):\n",
        "      factors.append(self.dep_vars[i])\n",
        "    \n",
        "    list_set = set(factors) \n",
        "    # convert the set to the list \n",
        "    unique_list_of_vars = list(list_set)\n",
        "    unique_list_of_vars.sort(reverse=False)\n",
        "    print(unique_list_of_vars)"
      ],
      "execution_count": 0,
      "outputs": []
    },
    {
      "cell_type": "code",
      "metadata": {
        "id": "AAuAa2k-iFdU",
        "colab_type": "code",
        "colab": {
          "base_uri": "https://localhost:8080/",
          "height": 34
        },
        "outputId": "386e707f-2aa3-4576-c2eb-cdf79c959725"
      },
      "source": [
        "p_a_given_b = Factor(\"A\",[\"B\",\"C\",\"D\", \"D\"])\n",
        "p_a_given_b.print_factor()"
      ],
      "execution_count": 67,
      "outputs": [
        {
          "output_type": "stream",
          "text": [
            "P(A|B,C,D,D)\n"
          ],
          "name": "stdout"
        }
      ]
    },
    {
      "cell_type": "code",
      "metadata": {
        "id": "I5t8wXXVjkeb",
        "colab_type": "code",
        "colab": {
          "base_uri": "https://localhost:8080/",
          "height": 34
        },
        "outputId": "4a5e955e-eca8-493f-b300-1044e218fddb"
      },
      "source": [
        "p_a_given_b.vars_in_factor()"
      ],
      "execution_count": 68,
      "outputs": [
        {
          "output_type": "stream",
          "text": [
            "['A', 'B', 'C', 'D']\n"
          ],
          "name": "stdout"
        }
      ]
    },
    {
      "cell_type": "code",
      "metadata": {
        "id": "eoSlFKa9kP5x",
        "colab_type": "code",
        "colab": {}
      },
      "source": [
        "class TabularCPD: \n",
        "  def __init__(self, variable, variable_card, values, evidence='', evidence_card=''): \n",
        "    self.variable = variable \n",
        "    self.variable_card = variable_card\n",
        "    self.values = values\n",
        "    self.evidence = evidence\n",
        "    self.evidence_card = evidence_card\n",
        "\n",
        "  def print_cpd(self):\n",
        "   # print(\"evidence is {} of type {} with length {}\".format(self.evidence,type(self.evidence), len(self.evidence)))\n",
        "    if len(self.evidence) > 0:\n",
        "      print(\"P({}|{})\".format(self.variable, self.evidence[0]))\n",
        "      pretty=prettytable.PrettyTable()\n",
        "      pretty.add_column(\"{}\".format(self.variable), [\"{}(0)\".format(self.variable),\"{}(1)\".format(self.variable)], align='l',valign='t')\n",
        "      \n",
        "      self.values = np.array(self.values)\n",
        "      self.values = self.values.transpose()\n",
        "\n",
        "      for i in range(0,len(self.values)):\n",
        "        # print(i)\n",
        "        # print(self.values[i])\n",
        "        pretty.add_column(\"{}({})\".format(self.evidence[0], i), self.values[i], align='l',valign='t')   \n",
        "      print(pretty)\n",
        "    else: \n",
        "      print(\"P({})\".format(self.variable))\n",
        "      pretty=prettytable.PrettyTable()\n",
        "      pretty.add_column(\"{}\".format(self.variable), [\"{}(0)\".format(self.variable),\"{}(1)\".format(self.variable)], align='l',valign='t')\n",
        "      pretty.add_column(\"Pr\", [item for t in self.values for item in t], align='l',valign='t')\n",
        "      print(pretty)\n"
      ],
      "execution_count": 0,
      "outputs": []
    },
    {
      "cell_type": "code",
      "metadata": {
        "id": "1-0YiWWWkSyA",
        "colab_type": "code",
        "colab": {}
      },
      "source": [
        "model = MyBayesianModel([('C', 'B'), ('B', 'A')])"
      ],
      "execution_count": 0,
      "outputs": []
    },
    {
      "cell_type": "code",
      "metadata": {
        "id": "II6ds0H2kUbZ",
        "colab_type": "code",
        "colab": {
          "base_uri": "https://localhost:8080/",
          "height": 34
        },
        "outputId": "ceb0c0ae-18d8-4f54-c96e-2a99423a62a9"
      },
      "source": [
        "model.get_variables()"
      ],
      "execution_count": 6,
      "outputs": [
        {
          "output_type": "stream",
          "text": [
            "['C', 'A', 'B']\n"
          ],
          "name": "stdout"
        }
      ]
    },
    {
      "cell_type": "code",
      "metadata": {
        "id": "Ks7TxNLOkVuI",
        "colab_type": "code",
        "colab": {}
      },
      "source": [
        "cpd_c = TabularCPD(variable='C', variable_card = 2, values=[[0.8,0.2]])\n",
        "cpd_a = TabularCPD(variable='A', variable_card=2, \n",
        "                   values=[[0.3, 0.9], \n",
        "                           [0.7, 0.1]],\n",
        "                   evidence = ['B'], \n",
        "                   evidence_card=[2] \n",
        "                   )\n",
        "\n",
        "cpd_b = TabularCPD(variable='B', variable_card=2, \n",
        "                   values=[[0.5, 0.4], \n",
        "                           [0.5, 0.6]],\n",
        "                   evidence = ['C'], \n",
        "                   evidence_card=[2] \n",
        "                   )"
      ],
      "execution_count": 0,
      "outputs": []
    },
    {
      "cell_type": "code",
      "metadata": {
        "id": "NrhaU8FzkcUw",
        "colab_type": "code",
        "colab": {
          "base_uri": "https://localhost:8080/",
          "height": 136
        },
        "outputId": "598567f4-f7a3-4ec7-d1cc-8b75edcf28d4"
      },
      "source": [
        "cpd_a.print_cpd()"
      ],
      "execution_count": 15,
      "outputs": [
        {
          "output_type": "stream",
          "text": [
            "P(A|B)\n",
            "+------+------+------+\n",
            "| A    | B(0) | B(1) |\n",
            "+------+------+------+\n",
            "| A(0) | 0.3  | 0.9  |\n",
            "| A(1) | 0.7  | 0.1  |\n",
            "+------+------+------+\n"
          ],
          "name": "stdout"
        }
      ]
    },
    {
      "cell_type": "code",
      "metadata": {
        "id": "NsqejC_GkdyH",
        "colab_type": "code",
        "colab": {
          "base_uri": "https://localhost:8080/",
          "height": 136
        },
        "outputId": "453e32b2-75f2-41d8-c7be-e154aa648c43"
      },
      "source": [
        "cpd_c.print_cpd()"
      ],
      "execution_count": 16,
      "outputs": [
        {
          "output_type": "stream",
          "text": [
            "P(C)\n",
            "+------+-----+\n",
            "| C    | Pr  |\n",
            "+------+-----+\n",
            "| C(0) | 0.8 |\n",
            "| C(1) | 0.2 |\n",
            "+------+-----+\n"
          ],
          "name": "stdout"
        }
      ]
    },
    {
      "cell_type": "code",
      "metadata": {
        "id": "8cDqiO_3kj6O",
        "colab_type": "code",
        "colab": {
          "base_uri": "https://localhost:8080/",
          "height": 136
        },
        "outputId": "b5434605-6415-42f4-a671-73b7a2ca5f66"
      },
      "source": [
        "cpd_b.print_cpd()"
      ],
      "execution_count": 17,
      "outputs": [
        {
          "output_type": "stream",
          "text": [
            "P(B|C)\n",
            "+------+------+------+\n",
            "| B    | C(0) | C(1) |\n",
            "+------+------+------+\n",
            "| B(0) | 0.5  | 0.4  |\n",
            "| B(1) | 0.5  | 0.6  |\n",
            "+------+------+------+\n"
          ],
          "name": "stdout"
        }
      ]
    },
    {
      "cell_type": "code",
      "metadata": {
        "id": "z-oP9A_0eP2M",
        "colab_type": "code",
        "colab": {}
      },
      "source": [
        ""
      ],
      "execution_count": 0,
      "outputs": []
    }
  ]
}